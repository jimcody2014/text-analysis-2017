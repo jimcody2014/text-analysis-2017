{
 "cells": [
  {
   "cell_type": "markdown",
   "metadata": {},
   "source": [
    "# Tech Overview: Working with Python and Jupyter\n",
    "\n",
    "Let's get the basics down first. Navagating Jupyter, running Python code, making sure everything is installed correctly, etc. \n",
    "\n",
    "### Outline\n",
    "* [0. Installation Check](#installation)\n",
    "* [1. Primer in Markdown](#markdown)\n"
   ]
  },
  {
   "cell_type": "markdown",
   "metadata": {},
   "source": [
    "<a id='installation'></a>\n",
    "### 0. Installation Check"
   ]
  },
  {
   "cell_type": "markdown",
   "metadata": {},
   "source": [
    "First let's make sure Python is installed. If you receive no errors in this section, then your computer is ready to run the materials for this course! If you do receive an error, read the message closely since it offers clues to resolving the issue.\n",
    "\n",
    "Jupyter notebooks consist of cells. The cell we're reading now is formatted as a \"Markdown\" cell, and is used for text.\n",
    "\n",
    "To run Python code we need cells that are formatted as \"Code\" cells. A code cell has a \"In [ ]\" to the left of the cell. Running code in a Jupyter notebook is relatively easy. Click on the cell you wish to run (a segment of code with a gray background) in order to highlight it. Then either click the \"Play\" button in the toolbar above the code window or press CTRL+RETURN on your keyboard.\n",
    "\n",
    "\n",
    "### Python Version\n",
    "A quick check to see make sure that we are running Python 3. If the number \"2\" is printed below, it means you're running Python 2. Because we're using a shared server everyone should see Python 3. If you install Python on your own machine you can run this to see which version you're running."
   ]
  },
  {
   "cell_type": "code",
   "execution_count": null,
   "metadata": {},
   "outputs": [],
   "source": [
    "import sys\n",
    "sys.version_info.major"
   ]
  },
  {
   "cell_type": "markdown",
   "metadata": {},
   "source": [
    "### Required Packages\n",
    "If you installed Python through the Anaconda platform, then the packages below should already be installed on your hard drive and Python should be able to find them."
   ]
  },
  {
   "cell_type": "code",
   "execution_count": null,
   "metadata": {},
   "outputs": [],
   "source": [
    "import os\n",
    "import string\n",
    "import numpy\n",
    "import matplotlib\n",
    "import pandas\n",
    "import sklearn\n",
    "import scipy\n",
    "import nltk\n",
    "\n",
    "print(\"Success!\")"
   ]
  },
  {
   "cell_type": "markdown",
   "metadata": {},
   "source": [
    "### Visualization¶\n",
    "The code in the cell below is not Python but a direct instruction to the Jupyter Notebook. Any visualizations that we produce will appear within the notebook itself (as opposed to an external image processor)."
   ]
  },
  {
   "cell_type": "code",
   "execution_count": null,
   "metadata": {},
   "outputs": [],
   "source": [
    "%pylab inline"
   ]
  },
  {
   "cell_type": "markdown",
   "metadata": {},
   "source": [
    "### NLP Models\n",
    "\n",
    "In order to fully use the NLTK package for Natural Language Processing, we need to download a couple of language models that give Python extra instructions. For example, the 'punkt' model below tells Python how to break strings of text into individual words or sentences. Running this cell will require a stable internet connection and perhaps a little patience. If it completes successfully, then it will print the word \"True\" at the bottom."
   ]
  },
  {
   "cell_type": "code",
   "execution_count": null,
   "metadata": {},
   "outputs": [],
   "source": [
    "nltk_data = [\"punkt\", \"words\", \"stopwords\", \"averaged_perceptron_tagger\", \"maxent_ne_chunker\", 'wordnet']\n",
    "nltk.download(nltk_data)"
   ]
  },
  {
   "cell_type": "markdown",
   "metadata": {},
   "source": [
    "As a quick, opening toy example to see Python in action, let's find all the present participles used in Jane Austen's Pride and Prejudice. There is a plain text file containing this book in this folder.\n",
    "Part of the reason why people use Python to do work on human-language texts (natural language processing) is because it makes tasks like this relatively simple."
   ]
  },
  {
   "cell_type": "code",
   "execution_count": null,
   "metadata": {},
   "outputs": [],
   "source": [
    "# every line that starts with a hash is a comment\n",
    "# the computer ignores these lines, they are meant to address a human reader\n",
    "# here is some starter code to make sure everything is set up (don't worry about understanding everything here)\n",
    "for line in open('../Data/Austen_PrideAndPrejudice.txt', encoding='utf-8'):\n",
    "    for word in line.split():\n",
    "        if word.endswith('ing'):\n",
    "            print(word)"
   ]
  },
  {
   "cell_type": "markdown",
   "metadata": {},
   "source": [
    "### Code Space\n",
    "\n",
    "This is a free space to write your own code. Once you have written your masterpiece, go ahead and run it! To create new cells, click the \"Plus\" button in the toolbar."
   ]
  },
  {
   "cell_type": "code",
   "execution_count": null,
   "metadata": {
    "collapsed": true
   },
   "outputs": [],
   "source": []
  },
  {
   "cell_type": "markdown",
   "metadata": {},
   "source": [
    "<a id='markdown'></a>\n",
    "### 1. Primer in Markdown"
   ]
  },
  {
   "cell_type": "markdown",
   "metadata": {},
   "source": [
    "If you double click on a markdown cell you will see the syntax behind the cell, and you can modify the cell.\n",
    "\n",
    "Here are some basic formatting tags you might use in markdown. This is borrowed from [here](https://github.com/adam-p/markdown-here/wiki/Markdown-Cheatsheet), which has more formatting tips. Google is also your friend, if you have a particular question about formatting in Markdown."
   ]
  },
  {
   "cell_type": "markdown",
   "metadata": {},
   "source": [
    "### 1. Headers\n",
    "\n",
    "# H1\n",
    "## H2\n",
    "### H3\n",
    "#### H4\n",
    "##### H5\n",
    "###### H6\n",
    "\n",
    "Alternatively, for H1 and H2, an underline-ish style:\n",
    "\n",
    "Alt-H1\n",
    "======\n",
    "\n",
    "Alt-H2\n",
    "------"
   ]
  },
  {
   "cell_type": "markdown",
   "metadata": {},
   "source": [
    "### 2. Emphasis\n",
    "\n",
    "Emphasis, aka italics, with *asterisks* or _underscores_.\n",
    "\n",
    "Strong emphasis, aka bold, with **asterisks** or __underscores__.\n",
    "\n",
    "Combined emphasis with **asterisks and _underscores_**.\n",
    "\n",
    "Strikethrough uses two tildes. ~~Scratch this.~~"
   ]
  },
  {
   "cell_type": "markdown",
   "metadata": {},
   "source": [
    "### 3. Lists\n",
    "\n",
    "1. First ordered list item\n",
    "2. Another item\n",
    "  * Unordered sub-list. \n",
    "1. Actual numbers don't matter, just that it's a number\n",
    "  1. Ordered sub-list\n",
    "4. And another item.\n",
    "\n",
    "   You can have properly indented paragraphs within list items. Notice the blank line above, and the leading spaces (at least one, but we'll use three here to also align the raw Markdown).\n",
    "\n",
    "   To have a line break without a paragraph, you will need to use two trailing spaces.  \n",
    "   Note that this line is separate, but within the same paragraph.  \n",
    "\n",
    "\n",
    "* Unordered list can use asterisks\n",
    "- Or minuses\n",
    "+ Or pluses\n"
   ]
  },
  {
   "cell_type": "markdown",
   "metadata": {},
   "source": [
    "### 4. Links\n",
    "\n",
    "[I'm an inline-style link](https://www.google.com)\n",
    "\n",
    "[I'm an inline-style link with title](https://www.google.com \"Google's Homepage\")"
   ]
  },
  {
   "cell_type": "markdown",
   "metadata": {},
   "source": [
    "### 5. Blockquotes\n",
    "\n",
    "> Blockquotes are very handy if you are including longer quores.\n",
    "> This line is part of the same quote.\n",
    "\n",
    "Quote break.\n",
    "\n",
    "> This is a very long line that will still be quoted properly when it wraps. Oh boy let's keep writing to make sure this is long enough to actually wrap for everyone. Oh, you can *put* **Markdown** into a blockquote. \n",
    "\n"
   ]
  },
  {
   "cell_type": "markdown",
   "metadata": {},
   "source": [
    "### 6. Images \n",
    "\n",
    "Let's end with a nice, relaxing picture, with text when you hover over it. You must give it a path name, either a file on your computer (in the images folder!), or linked online. Here's an online link:\n",
    "\n",
    "![alt text](https://upload.wikimedia.org/wikipedia/commons/d/d0/Barns_grand_tetons.jpg \"Rocky Mountain Cabin\")\n",
    "\n"
   ]
  },
  {
   "cell_type": "code",
   "execution_count": null,
   "metadata": {
    "collapsed": true
   },
   "outputs": [],
   "source": []
  }
 ],
 "metadata": {
  "kernelspec": {
   "display_name": "Python 3",
   "language": "python",
   "name": "python3"
  },
  "language_info": {
   "codemirror_mode": {
    "name": "ipython",
    "version": 3
   },
   "file_extension": ".py",
   "mimetype": "text/x-python",
   "name": "python",
   "nbconvert_exporter": "python",
   "pygments_lexer": "ipython3",
   "version": "3.5.2"
  }
 },
 "nbformat": 4,
 "nbformat_minor": 2
}
