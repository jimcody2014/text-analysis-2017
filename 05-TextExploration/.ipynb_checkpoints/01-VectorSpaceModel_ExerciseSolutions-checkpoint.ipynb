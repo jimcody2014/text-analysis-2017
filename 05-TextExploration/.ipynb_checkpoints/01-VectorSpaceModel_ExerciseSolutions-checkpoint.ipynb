{
 "cells": [
  {
   "cell_type": "markdown",
   "metadata": {},
   "source": [
    "# Vector Space Model\n",
    "\n",
    "Adapted from [this](https://de.dariah.eu/tatom/working_with_text.html) blog post, written by [Allen Riddell](http://www.ariddell.org/).\n",
    "\n",
    "One of the benefits of the DTM is that it allows us to think about text within the bounds of geometry, which then allows us to think about the \"distance\" between texts. Today's tutorial will explore how we might use distance measures in our text analysis workflow, and toward what end.\n",
    "\n",
    "### Learning Goals\n",
    "* Gain an intuition about how we might think about, and measure, the distance between texts\n",
    "* Learn how to measure distances using `scikit-learn`\n",
    "* Learn how to visualize distances in a few ways, and how that might help us in our text analysis project\n",
    "* Learn more about the flexibilities and range of tools in `scikit-learn`\n",
    "\n",
    "### Outline\n",
    "\n",
    "<ol start=\"0\">\n",
    "  <li>[Vectorizing our text: The Sparse DTM to Numpy Array](#vector)</li>\n",
    "  <li>[Comparing Texts](#compare)</li>\n",
    "  <li>[Visualizing Distance](#visual)</li>\n",
    "  <li>[Clustering Text based on Distance Metrics (if time)](#cluster)</li>\n",
    "  <li>[K-Means Clustering (if time)](#kmeans)</li>\n",
    "</ol>\n",
    "\n",
    "### Key Terms\n",
    "\n",
    "* Euclidean Distance\n",
    "    * In mathematics, the Euclidean distance or Euclidean metric is the \"ordinary\" (i.e. straight-line) distance between two points in Euclidean space. With this distance, Euclidean space becomes a metric space.\n",
    "* Cosine Similarity\n",
    "    * Cosine similarity is a measure of similarity between two non-zero vectors of an inner product space that measures the cosine of the angle between them. The cosine of 0° is 1, and it is less than 1 for any other angle.\n",
    "* Multidimensional Scaling\n",
    "    * Multidimensional scaling (MDS) is a means of visualizing the level of similarity of individual cases of a dataset. It refers to a set of related ordination techniques used in information visualization, in particular to display the information contained in a distance matrix.\n",
    "* Dendrogram\n",
    "    * A dendrogram (from Greek dendro \"tree\" and gramma \"drawing\") is a tree diagram frequently used to illustrate the arrangement of the clusters produced by hierarchical clustering.\n",
    "* K-Means Clustering\n",
    "    * k-means clustering aims to partition n observations into k clusters in which each observation belongs to the cluster with the nearest mean, serving as a prototype of the cluster."
   ]
  },
  {
   "cell_type": "markdown",
   "metadata": {},
   "source": [
    "<a id='vector'></a>\n",
    "### 0. From DTM to Numpy Array"
   ]
  },
  {
   "cell_type": "markdown",
   "metadata": {},
   "source": [
    "First, let's create our DTM, and then turn it from a sparse matrix to a regular (dense) array.\n",
    "\n",
    "We'll use a different input option than we have, an option called `filename`."
   ]
  },
  {
   "cell_type": "code",
   "execution_count": null,
   "metadata": {
    "collapsed": true
   },
   "outputs": [],
   "source": [
    "import numpy as np \n",
    "from sklearn.feature_extraction.text import CountVectorizer\n",
    "\n",
    "filenames = ['../Data/Alcott_GarlandForGirls.txt',\n",
    "            '../Data/Austen_PrideAndPrejudice.txt',\n",
    "            '../Data/Machiavelli_ThePrince.txt',\n",
    "            '../Data/Marx_CommunistManifesto.txt']\n",
    "\n",
    "vectorizer = CountVectorizer(input='filename', encoding='utf-8',stop_words='english') #filname input, which bypases reading in files\n",
    "dtm = vectorizer.fit_transform(filenames)  # a sparse matrix\n",
    "vocab = vectorizer.get_feature_names()  # a list\n",
    "dtm"
   ]
  },
  {
   "cell_type": "code",
   "execution_count": null,
   "metadata": {
    "collapsed": true
   },
   "outputs": [],
   "source": [
    "dtm = dtm.toarray()  # convert to a regular, dense array\n",
    "vocab = np.array(vocab)\n",
    "dtm"
   ]
  },
  {
   "cell_type": "markdown",
   "metadata": {},
   "source": [
    "<a id='compare'></a>\n",
    "### 1. Comparing texts"
   ]
  },
  {
   "cell_type": "markdown",
   "metadata": {},
   "source": [
    "Arranging our texts in a document-term matrix make available a range of exploratory procedures. For example, calculating a measure of similarity between texts becomes simple. Since each row of the document-term matrix is a sequence of a novel’s word frequencies, it is possible to put mathematical notions of similarity (or distance) between sequences of numbers in service of calculating the similarity (or distance) between any two novels. One frequently used measure of distance between vectors (a measure easily converted into a measure of similarity) is Euclidean distance. The Euclidean distance between two vectors in the plane should be familiar from geometry, as it is the length of the hypotenuse that joins the two vectors. For instance, consider the Euclidean distance between the vectors  \\begin{align}\n",
    "\\overrightarrow{x}=(1,3) \\space \\space and\\space\\space\\overrightarrow{y}=(4,2)  \\end{align}\n",
    "\n",
    "the Euclidian distance can be calculated as follows:\n",
    "\\begin{align}\n",
    "\\sqrt{(1-4)^2 + (3-2)^2} = \\sqrt{10}\n",
    "\\end{align}\n",
    "\n",
    ">Note\n",
    "Measures of distance can be converted into measures of similarity. If your measures of distance are all between zero and one, then a measure of similarity could be one minus the distance. (The inverse of the distance would also serve as a measure of similarity.)\n",
    "\n",
    "\n",
    "Distance between two vectors:\n",
    "\n",
    "![alt text](https://de.dariah.eu/tatom/_images/tikz-af04f26d9e919ae68f473524fd99b7d0276afe7d.png)\n",
    "\n",
    "\n",
    "\n",
    ">Note\n",
    "More generally, given two vectors \\begin{align} \\overrightarrow{x} \\space \\space and\\space\\space\\overrightarrow{y}\\end{align} \n",
    "\n",
    ">in *p*-dimensional space, the Euclidean distance between the two vectors is given by\n",
    "\n",
    ">\\begin{align}\n",
    "||\\overrightarrow{x} −\\overrightarrow{y}||=\\sqrt{\\sum_{i=1}^P (x_i−y_i)^2}\n",
    "\\end{align}\n",
    "\n",
    "This concept of distance is not restricted to two dimensions. For example, it is not difficult to imagine the figure above translated into three dimensions. We can also persuade ourselves that the measure of distance extends to an arbitrary number of dimensions; for any two matched components in a pair of vectors (such as x<sub>2</sub> and y<sub>2</sub>), differences increase the distance.\n",
    "\n",
    "Since two novels in our corpus now have an expression as vectors, we can calculate the Euclidean distance between them. We can do this by hand or we can avail ourselves of the `scikit-learn` function `euclidean_distances`.\n",
    "\n",
    "A challenge for you: calculate Euclidean distance of sample texts by hand.\n"
   ]
  },
  {
   "cell_type": "code",
   "execution_count": null,
   "metadata": {
    "collapsed": true
   },
   "outputs": [],
   "source": [
    "from sklearn.metrics.pairwise import euclidean_distances\n",
    "euc_dist = euclidean_distances(dtm)\n",
    "print(filenames[1])\n",
    "print(filenames[2])\n",
    "print(\"\\nDistance between Austen and Machiavelli:\")\n",
    "# the distance between Austen and Machiavelli\n",
    "print(euc_dist[1, 2])\n",
    "\n",
    "# which is greater than the distance between *Austen* and *Alcott* (index 0)\n",
    "print(\"\\nDistance between Austen and Machiavelli is greater than the distance between Austen and Alcott:\")\n",
    "euc_dist[1, 2] > euc_dist[0, 1]"
   ]
  },
  {
   "cell_type": "markdown",
   "metadata": {},
   "source": [
    "And if we want to use a measure of distance that takes into consideration the length of the novels (an excellent idea), we can calculate the cosine similarity by importing `sklearn.metrics.pairwise.cosine_similarity` and use it in place of `euclidean_distances`.\n",
    "\n",
    "Cosine similarity measure the angle between two vectors:\n",
    "\n",
    "![alt text](https://engineering.aweber.com/wp-content/uploads/2013/02/4AUbj.png)\n",
    "\n",
    "Question: How does length factor into these two equations?\n",
    "\n",
    "Keep in mind that cosine similarity is a measure of similarity (rather than distance) that ranges between 0 and 1 (as it is the cosine of the angle between the two vectors). In order to get a measure of distance (or dissimilarity), we need to “flip” the measure so that a larger angle receives a larger value. The distance measure derived from cosine similarity is therefore one minus the cosine similarity between two vectors."
   ]
  },
  {
   "cell_type": "code",
   "execution_count": null,
   "metadata": {
    "collapsed": true
   },
   "outputs": [],
   "source": [
    "from sklearn.metrics.pairwise import cosine_similarity\n",
    "\n",
    "cos_dist = 1 - cosine_similarity(dtm)\n",
    "\n",
    "np.round(cos_dist, 2)"
   ]
  },
  {
   "cell_type": "code",
   "execution_count": null,
   "metadata": {
    "collapsed": true
   },
   "outputs": [],
   "source": [
    "##EX: \n",
    "## 1. Print the cosine distance between Austen and Machiavelli\n",
    "## 2. Is this distance greater or less than the distance between Austen and Alcott?\n",
    "\n",
    "print(cos_dist[1, 2])\n",
    "\n",
    "# which is greater than the distance between *Austen* and\n",
    "# *Alcott* (index 0)\n",
    "cos_dist[1, 2] > cos_dist[1, 0]"
   ]
  },
  {
   "cell_type": "markdown",
   "metadata": {},
   "source": [
    "<a id='visual'></a>\n",
    "### 2. Visualizing distances"
   ]
  },
  {
   "cell_type": "markdown",
   "metadata": {},
   "source": [
    "It is often desirable to visualize the pairwise distances between our texts. A general approach to visualizing distances is to assign a point in a plane to each text, making sure that the distance between points is proportional to the pairwise distances we calculated. This kind of visualization is common enough that it has a name, “multidimensional scaling” (MDS) and family of functions in `scikit-learn`."
   ]
  },
  {
   "cell_type": "code",
   "execution_count": null,
   "metadata": {
    "collapsed": true
   },
   "outputs": [],
   "source": [
    "import os  # for os.path.basename\n",
    "import matplotlib.pyplot as plt\n",
    "from sklearn.manifold import MDS\n",
    "\n",
    "# two components as we're plotting points in a two-dimensional plane\n",
    "# \"precomputed\" because we provide a distance matrix\n",
    "# we will also specify `random_state` so the plot is reproducible.\n",
    "\n",
    "mds = MDS(n_components=2, dissimilarity=\"precomputed\", random_state=1)\n",
    "\n",
    "pos = mds.fit_transform(euc_dist)  # shape (n_components, n_samples)\n",
    "xs, ys = pos[:, 0], pos[:, 1]\n",
    "\n",
    "# short versions of filenames:\n",
    "# convert 'data/austen-brontë/Austen_Emma.txt' to 'Austen_Emma'\n",
    "names = [os.path.basename(fn).replace('.txt', '') for fn in filenames]\n",
    "\n",
    "\n",
    "for x, y, name in zip(xs, ys, names):\n",
    "    plt.scatter(x, y)\n",
    "    plt.text(x, y, name)\n",
    "\n",
    "plt.show()"
   ]
  },
  {
   "cell_type": "markdown",
   "metadata": {},
   "source": [
    "<a id='cluster'></a>\n",
    "### 3. Clustering texts based on distance"
   ]
  },
  {
   "cell_type": "markdown",
   "metadata": {},
   "source": [
    "Clustering texts into discrete groups of similar texts is often a useful exploratory step. For example, a researcher may be wondering if certain textual features partition a collection of texts by author or by genre. Pairwise distances alone do not produce any kind of classification. To put a set of distance measurements to work in classification requires additional assumptions, such as a definition of a group or cluster.\n",
    "\n",
    "The ideas underlying the transition from distances to clusters are, for the most part, common sense. Any clustering of texts should result in texts that are closer to each other (in the distance matrix) residing in the same cluster. There are many ways of satisfying this requirement; there no unique clustering based on distances that is the “best”. One strategy for clustering in circulation is called Ward’s method. Rather than producing a single clustering, Ward’s method produces a hierarchy of clusterings, as we will see in a moment. All that Ward’s method requires is a set of pairwise distance measurements–such as those we calculated a moment ago. Ward’s method produces a hierarchical clustering of texts via the following procedure:\n",
    "\n",
    "1. Start with each text in its own cluster\n",
    "2. Until only a single cluster remains,\n",
    "    * Find the closest clusters and merge them. The distance between two clusters is the change in the sum of squared distances when they are merged.\n",
    "3. Return a tree containing a record of cluster-merges.\n",
    "\n",
    "The function [scipy.cluster.hierarchy.ward](https://docs.scipy.org/doc/scipy/reference/cluster.hierarchy.html) performs this algorithm and returns a tree of cluster-merges. The hierarchy of clusters can be visualized using `scipy.cluster.hierarchy.dendrogram`.\n",
    "\n"
   ]
  },
  {
   "cell_type": "code",
   "execution_count": null,
   "metadata": {
    "collapsed": true
   },
   "outputs": [],
   "source": [
    "from scipy.cluster.hierarchy import ward, dendrogram\n",
    "linkage_matrix = ward(euc_dist)\n",
    "\n",
    "dendrogram(linkage_matrix, orientation=\"right\", labels=names)\n",
    "\n",
    "plt.tight_layout()  # fixes margins\n",
    "\n",
    "plt.show()"
   ]
  },
  {
   "cell_type": "markdown",
   "metadata": {},
   "source": [
    "<a id='kmeans'></a>\n",
    "### 4. K-Means Clustering"
   ]
  },
  {
   "cell_type": "markdown",
   "metadata": {},
   "source": [
    "From the dendrogram above, we might expect these four novels to have two clusters: Austen and Alcott, and Machiavelli and Marx.\n",
    "\n",
    "Let's see if this is the case using k-means clustering, which clusters on Euclidean distance."
   ]
  },
  {
   "cell_type": "code",
   "execution_count": null,
   "metadata": {
    "collapsed": true
   },
   "outputs": [],
   "source": [
    "from sklearn.cluster import KMeans\n",
    "\n",
    "km = KMeans(n_clusters=2, random_state=0)\n",
    "\n",
    "clusters = km.fit(dtm)\n",
    "clusters.labels_"
   ]
  },
  {
   "cell_type": "code",
   "execution_count": null,
   "metadata": {
    "collapsed": true
   },
   "outputs": [],
   "source": [
    "list(zip(filenames, clusters.labels_))"
   ]
  },
  {
   "cell_type": "code",
   "execution_count": null,
   "metadata": {
    "collapsed": true
   },
   "outputs": [],
   "source": [
    "print(\"Top terms per cluster:\")\n",
    "order_centroids = clusters.cluster_centers_.argsort()[:, ::-1]\n",
    "terms = vectorizer.get_feature_names()\n",
    "for i in range(2):\n",
    "    print(\"Cluster %d:\" % i,)\n",
    "    for ind in order_centroids[i, :20]:\n",
    "        print(' %s' % terms[ind],)\n",
    "    print()"
   ]
  },
  {
   "cell_type": "markdown",
   "metadata": {},
   "source": [
    "<a id='exercise'></a>\n",
    "### Exercise:"
   ]
  },
  {
   "cell_type": "markdown",
   "metadata": {},
   "source": [
    "1. Find the Euclidian distance and cosine distance for the 5 sentences below. Do the distance measures make sense?\n",
    "2. Visualize the potential clusters using a dendrogram. Do the clusters make sense?\n",
    "3. How might we make the clusters better?"
   ]
  },
  {
   "cell_type": "code",
   "execution_count": null,
   "metadata": {
    "collapsed": true
   },
   "outputs": [],
   "source": [
    "text0 = 'I like to eat broccoli and bananas.'\n",
    "text1 = 'I ate a banana and spinach smoothie for breakfast.'\n",
    "text2 = 'Chinchillas and kittens are cute.'\n",
    "text3 = 'My sister adopted a kitten yesterday.'\n",
    "text4 = 'Look at this cute hamster munching on a piece of broccoli.'\n",
    "\n",
    "text_list = [text0, text1, text2, text3, text4]\n",
    "#create vector for text \"names\"\n",
    "names = ['eat', 'smoothie', 'chinchillas', 'adopted', 'munching']"
   ]
  },
  {
   "cell_type": "code",
   "execution_count": null,
   "metadata": {
    "collapsed": true
   },
   "outputs": [],
   "source": [
    "#solution\n",
    "ex_vectorizer = CountVectorizer(stop_words='english')\n",
    "ex_dtm = ex_vectorizer.fit_transform(text_list)  # a sparse matrix\n",
    "vocab = ex_vectorizer.get_feature_names()  # a list\n",
    "ex_dtm = ex_dtm.toarray()\n",
    "ex_dtm"
   ]
  },
  {
   "cell_type": "code",
   "execution_count": null,
   "metadata": {
    "collapsed": true
   },
   "outputs": [],
   "source": [
    "ex_euc_dist = euclidean_distances(ex_dtm)\n",
    "print(text_list[0])\n",
    "print(text_list[1])\n",
    "print(text_list[2])\n",
    "print(ex_euc_dist[0, 2])\n",
    "\n",
    "ex_euc_dist[0, 2] > ex_euc_dist[0, 1]"
   ]
  },
  {
   "cell_type": "code",
   "execution_count": null,
   "metadata": {
    "collapsed": true
   },
   "outputs": [],
   "source": [
    "ex_cos_dist = 1 - cosine_similarity(ex_dtm)\n",
    "\n",
    "print(np.round(ex_cos_dist, 2))\n",
    "\n",
    "print(ex_cos_dist[0,2])\n",
    "\n",
    "ex_cos_dist[0,2] > ex_cos_dist[0,1]"
   ]
  },
  {
   "cell_type": "code",
   "execution_count": null,
   "metadata": {
    "collapsed": true
   },
   "outputs": [],
   "source": [
    "linkage_matrix = ward(ex_euc_dist)\n",
    "\n",
    "dendrogram(linkage_matrix, orientation=\"right\", labels=names)\n",
    "\n",
    "plt.tight_layout()  # fixes margins\n",
    "\n",
    "plt.show()"
   ]
  },
  {
   "cell_type": "code",
   "execution_count": null,
   "metadata": {
    "collapsed": true
   },
   "outputs": [],
   "source": [
    "from nltk.stem.porter import PorterStemmer\n",
    "import re\n",
    "\n",
    "porter_stemmer = PorterStemmer()\n",
    "\n",
    "#remove punctuation\n",
    "text_list = [re.sub(\"[,.]\", \"\", sentence) for sentence in text_list]\n",
    "#stem words\n",
    "text_list_stemmed = [' '.join([porter_stemmer.stem(word) for word in sentence.split(\" \")]) for sentence in text_list]\n",
    "text_list_stemmed"
   ]
  },
  {
   "cell_type": "code",
   "execution_count": null,
   "metadata": {
    "collapsed": true
   },
   "outputs": [],
   "source": [
    "dtm_stem = ex_vectorizer.fit_transform(text_list_stemmed)"
   ]
  },
  {
   "cell_type": "code",
   "execution_count": null,
   "metadata": {
    "collapsed": true
   },
   "outputs": [],
   "source": [
    "ex_dist = 1 - cosine_similarity(dtm_stem)\n",
    "\n",
    "print(np.round(ex_dist, 2))\n",
    "\n",
    "print(ex_dist[0,2])\n",
    "print(ex_dist[0,1])\n",
    "\n",
    "ex_dist[0,2] > ex_dist[0,1]"
   ]
  },
  {
   "cell_type": "code",
   "execution_count": null,
   "metadata": {
    "collapsed": true
   },
   "outputs": [],
   "source": [
    "linkage_matrix = ward(ex_dist)\n",
    "\n",
    "dendrogram(linkage_matrix, orientation=\"right\", labels=names)\n",
    "\n",
    "plt.tight_layout()  # fixes margins\n",
    "\n",
    "plt.show()"
   ]
  },
  {
   "cell_type": "code",
   "execution_count": null,
   "metadata": {
    "collapsed": true
   },
   "outputs": [],
   "source": [
    "print(text_list[0])\n",
    "print(text_list[1])\n",
    "print(text_list[2])\n",
    "print(text_list[3])\n",
    "print(text_list[4])"
   ]
  }
 ],
 "metadata": {
  "kernelspec": {
   "display_name": "Python 3",
   "language": "python",
   "name": "python3"
  },
  "language_info": {
   "codemirror_mode": {
    "name": "ipython",
    "version": 3
   },
   "file_extension": ".py",
   "mimetype": "text/x-python",
   "name": "python",
   "nbconvert_exporter": "python",
   "pygments_lexer": "ipython3",
   "version": "3.5.2"
  }
 },
 "nbformat": 4,
 "nbformat_minor": 2
}
